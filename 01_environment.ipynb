{
 "cells": [
  {
   "cell_type": "markdown",
   "metadata": {},
   "source": [
    "# Environment\n",
    "\n",
    "![Environment](img/env.jpeg)"
   ]
  },
  {
   "cell_type": "markdown",
   "metadata": {},
   "source": [
    "## GitHub"
   ]
  },
  {
   "cell_type": "markdown",
   "metadata": {},
   "source": [
    "1. [Sign Up for GitHub.](https://github.com/signup)\n",
    "\n",
    "1. [Get a free GitHub Pro Account.](https://github.com/education/students)\n",
    "\n",
    "1. [Download Git.](https://git-scm.com/downloads)"
   ]
  },
  {
   "cell_type": "markdown",
   "metadata": {
    "vscode": {
     "languageId": "plaintext"
    }
   },
   "source": [
    "## Visual Studio Code"
   ]
  },
  {
   "cell_type": "markdown",
   "metadata": {},
   "source": [
    "1. [Download Visual Studio Code.](https://code.visualstudio.com/Download)\n",
    "\n",
    "1. [Watch VSCode Introductory Videos.](https://code.visualstudio.com/docs/getstarted/introvideos)\n",
    "\n",
    "1. [Read Python in Visual Studio Code.](https://code.visualstudio.com/docs/languages/python)\n",
    "\n",
    "1. [Read Using Git source control in VS Code.](https://code.visualstudio.com/docs/sourcecontrol/overview)"
   ]
  },
  {
   "cell_type": "markdown",
   "metadata": {},
   "source": [
    "## Python"
   ]
  },
  {
   "cell_type": "markdown",
   "metadata": {},
   "source": [
    "1. [Download the Anaconda Python Distribution.](https://www.anaconda.com/download/success)\n",
    "\n",
    "2. Update Anaconda: `conda update --all`.\n"
   ]
  },
  {
   "cell_type": "markdown",
   "metadata": {},
   "source": [
    "### Refresh Your Python Knowledge\n",
    "\n",
    "[Refresh you Python knowledge with the official tutorial](https://docs.python.org/3/tutorial/index.html)"
   ]
  },
  {
   "cell_type": "code",
   "execution_count": 1,
   "metadata": {},
   "outputs": [],
   "source": [
    "# Python example.\n",
    "def foobar(n):\n",
    "  \"\"\"Prints the numbers from 1 to n, but for multiples of 3 prints \"foo\" instead of the number and for the multiples of 5 prints \"bar\". For numbers which are multiples of both three and five prints \"foobar\".\"\"\"\n",
    "  for i in range(n):\n",
    "    if i % 3 == 0 and i % 5 == 0:\n",
    "      print(\"foobar\")\n",
    "    elif i % 3 == 0:\n",
    "      print(\"foo\")\n",
    "    elif i % 5 == 0:\n",
    "      print(\"bar\")\n",
    "    else:\n",
    "      print(i)"
   ]
  },
  {
   "cell_type": "code",
   "execution_count": null,
   "metadata": {},
   "outputs": [],
   "source": [
    "foobar(16)"
   ]
  },
  {
   "cell_type": "markdown",
   "metadata": {},
   "source": [
    "### End"
   ]
  }
 ],
 "metadata": {
  "kernelspec": {
   "display_name": "base",
   "language": "python",
   "name": "python3"
  },
  "language_info": {
   "codemirror_mode": {
    "name": "ipython",
    "version": 3
   },
   "file_extension": ".py",
   "mimetype": "text/x-python",
   "name": "python",
   "nbconvert_exporter": "python",
   "pygments_lexer": "ipython3",
   "version": "3.12.2"
  }
 },
 "nbformat": 4,
 "nbformat_minor": 2
}
