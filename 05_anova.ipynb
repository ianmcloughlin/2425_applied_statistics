{
 "cells": [
  {
   "cell_type": "markdown",
   "metadata": {},
   "source": [
    "# ANOVA"
   ]
  },
  {
   "cell_type": "code",
   "execution_count": 1,
   "metadata": {},
   "outputs": [],
   "source": [
    "# Numerical arrays.\n",
    "import numpy as np\n",
    "\n",
    "# Plotting.\n",
    "import matplotlib.pyplot as plt\n",
    "\n",
    "# Statistical functions.\n",
    "import scipy.stats as stats\n",
    "\n",
    "# Mathematical functions.\n",
    "import math\n",
    "\n",
    "# Data frames.\n",
    "import pandas as pd"
   ]
  },
  {
   "cell_type": "markdown",
   "metadata": {},
   "source": [
    "## More Samples"
   ]
  },
  {
   "cell_type": "code",
   "execution_count": 2,
   "metadata": {},
   "outputs": [],
   "source": [
    "# First sample.\n",
    "sample_a = np.random.normal(loc=10.0, scale=1.0, size=50)\n",
    "\n",
    "# Second sample.\n",
    "sample_b = np.random.normal(loc=10.0, scale=1.0, size=50)\n",
    "\n",
    "# Third sample.\n",
    "sample_c = np.random.normal(loc=10.0, scale=1.0, size=50)"
   ]
  },
  {
   "cell_type": "code",
   "execution_count": 3,
   "metadata": {},
   "outputs": [
    {
     "data": {
      "image/png": "[encoded data removed]",
      "text/plain": [
       "<Figure size 1000x500 with 1 Axes>"
      ]
     },
     "metadata": {},
     "output_type": "display_data"
    }
   ],
   "source": [
    "# Create histograms.\n",
    "fig, ax = plt.subplots(figsize=(10, 5))\n",
    "\n",
    "# Histogram of the first sample.\n",
    "ax.hist(sample_a, bins=10, alpha=0.5, label='Sample A')\n",
    "\n",
    "# Histogram of the second sample.\n",
    "ax.hist(sample_b, bins=10, alpha=0.5, label='Sample B')\n",
    "\n",
    "# Histogram of the third sample.\n",
    "ax.hist(sample_c, bins=10, alpha=0.5, label='Sample C')\n",
    "\n",
    "# Add a legend.\n",
    "ax.legend();"
   ]
  },
  {
   "cell_type": "code",
   "execution_count": 4,
   "metadata": {},
   "outputs": [
    {
     "data": {
      "text/plain": [
       "(-1.659654966550531, 0.10018073999475076)"
      ]
     },
     "execution_count": 4,
     "metadata": {},
     "output_type": "execute_result"
    }
   ],
   "source": [
    "# Independent samples t-test on sample_a and sample_b.\n",
    "t_statistic, p_value = stats.ttest_ind(sample_a, sample_b)\n",
    "\n",
    "# Show.\n",
    "t_statistic, p_value"
   ]
  },
  {
   "cell_type": "code",
   "execution_count": 5,
   "metadata": {},
   "outputs": [
    {
     "data": {
      "text/plain": [
       "(1.659654966550531, 0.10018073999475076)"
      ]
     },
     "execution_count": 5,
     "metadata": {},
     "output_type": "execute_result"
    }
   ],
   "source": [
    "# Independent samples t-test on sample_b and sample_a.\n",
    "t_statistic, p_value = stats.ttest_ind(sample_b, sample_a)\n",
    "\n",
    "# Show.\n",
    "t_statistic, p_value"
   ]
  },
  {
   "cell_type": "code",
   "execution_count": 6,
   "metadata": {},
   "outputs": [
    {
     "data": {
      "text/plain": [
       "(-1.6626073915948998, 0.0995863445711748)"
      ]
     },
     "execution_count": 6,
     "metadata": {},
     "output_type": "execute_result"
    }
   ],
   "source": [
    "# Independent samples t-test on sample_a and sample_c.\n",
    "t_statistic, p_value = stats.ttest_ind(sample_a, sample_c)\n",
    "\n",
    "# Show.\n",
    "t_statistic, p_value"
   ]
  },
  {
   "cell_type": "code",
   "execution_count": 7,
   "metadata": {},
   "outputs": [
    {
     "data": {
      "text/plain": [
       "(0.02904746280492165, 0.9768858089649308)"
      ]
     },
     "execution_count": 7,
     "metadata": {},
     "output_type": "execute_result"
    }
   ],
   "source": [
    "# Independent samples t-test on sample_b and sample_c.\n",
    "t_statistic, p_value = stats.ttest_ind(sample_b, sample_c)\n",
    "\n",
    "# Show.\n",
    "t_statistic, p_value"
   ]
  },
  {
   "cell_type": "markdown",
   "metadata": {},
   "source": [
    "## $n$ Samples"
   ]
  },
  {
   "cell_type": "code",
   "execution_count": 8,
   "metadata": {},
   "outputs": [],
   "source": [
    "# Number of samples.\n",
    "n = 4"
   ]
  },
  {
   "cell_type": "code",
   "execution_count": 9,
   "metadata": {},
   "outputs": [
    {
     "name": "stdout",
     "output_type": "stream",
     "text": [
      "[0, 1, 2, 3]\n"
     ]
    }
   ],
   "source": [
    "# Show the sample labels.\n",
    "print(list(range(4)))"
   ]
  },
  {
   "cell_type": "markdown",
   "metadata": {},
   "source": [
    "For 4 samples, we can perform 6 t-tests:\n",
    "\n",
    "[0, 1]  \n",
    "[0, 2]  \n",
    "[0, 3]  \n",
    "[1, 2]  \n",
    "[1, 3]  \n",
    "[2, 3]  "
   ]
  },
  {
   "cell_type": "code",
   "execution_count": 10,
   "metadata": {},
   "outputs": [
    {
     "data": {
      "text/plain": [
       "6"
      ]
     },
     "execution_count": 10,
     "metadata": {},
     "output_type": "execute_result"
    }
   ],
   "source": [
    "# Number of ways of selecting two samples from n.\n",
    "math.comb(n, 2)"
   ]
  },
  {
   "cell_type": "code",
   "execution_count": 11,
   "metadata": {},
   "outputs": [
    {
     "data": {
      "text/plain": [
       "15"
      ]
     },
     "execution_count": 11,
     "metadata": {},
     "output_type": "execute_result"
    }
   ],
   "source": [
    "# Suppose we had 6 samples.\n",
    "n = 6\n",
    "math.comb(n, 2)"
   ]
  },
  {
   "cell_type": "code",
   "execution_count": 12,
   "metadata": {},
   "outputs": [
    {
     "data": {
      "text/plain": [
       "21"
      ]
     },
     "execution_count": 12,
     "metadata": {},
     "output_type": "execute_result"
    }
   ],
   "source": [
    "# Suppose we had 6 samples.\n",
    "n = 7\n",
    "math.comb(n, 2)"
   ]
  },
  {
   "cell_type": "markdown",
   "metadata": {},
   "source": [
    "## Type I Errors"
   ]
  },
  {
   "cell_type": "code",
   "execution_count": 13,
   "metadata": {},
   "outputs": [],
   "source": [
    "def simulate_ttest(alpha=0.05):\n",
    "    # Geneate a random sample a.\n",
    "    sample_a = np.random.normal(loc=10.0, scale=1.0, size=50)\n",
    "    # Generate similar sample b.\n",
    "    sample_b = np.random.normal(loc=10.0, scale=1.0, size=50)\n",
    "    \n",
    "    # Perform the t-test.\n",
    "    _, p_value = stats.ttest_ind(sample_a, sample_b)\n",
    "    \n",
    "    # Decide whether to reject the null hypothesis.\n",
    "    if p_value < alpha:\n",
    "        return True\n",
    "    else:\n",
    "        return False"
   ]
  },
  {
   "cell_type": "code",
   "execution_count": 14,
   "metadata": {},
   "outputs": [
    {
     "data": {
      "text/plain": [
       "487"
      ]
     },
     "execution_count": 14,
     "metadata": {},
     "output_type": "execute_result"
    }
   ],
   "source": [
    "# Number of rejections.\n",
    "no_rejections = 0\n",
    "\n",
    "# Run several simulations.\n",
    "for _ in range(10000):\n",
    "    # Check if the null hypothesis is rejected.\n",
    "    if simulate_ttest():\n",
    "        # Increment the number of rejections.\n",
    "        no_rejections += 1\n",
    "\n",
    "# Show the number of rejections.\n",
    "no_rejections"
   ]
  },
  {
   "cell_type": "markdown",
   "metadata": {},
   "source": [
    "## ANOVA\n",
    "\n",
    "https://docs.scipy.org/doc/scipy/reference/generated/scipy.stats.f_oneway.html  \n",
    "https://statistics.laerd.com/spss-tutorials/one-way-anova-using-spss-statistics.php  "
   ]
  },
  {
   "cell_type": "code",
   "execution_count": 15,
   "metadata": {},
   "outputs": [],
   "source": [
    "# From Laerd.\n",
    "beginner = np.random.normal(27.2, 3.04777, 10)\n",
    "intermediate = np.random.normal(23.6, 3.30656, 10)\n",
    "advanced = np.random.normal(23.4, 3.23866, 10)"
   ]
  },
  {
   "cell_type": "code",
   "execution_count": 16,
   "metadata": {},
   "outputs": [
    {
     "data": {
      "text/html": [
       "<div>\n",
       "<style scoped>\n",
       "    .dataframe tbody tr th:only-of-type {\n",
       "        vertical-align: middle;\n",
       "    }\n",
       "\n",
       "    .dataframe tbody tr th {\n",
       "        vertical-align: top;\n",
       "    }\n",
       "\n",
       "    .dataframe thead th {\n",
       "        text-align: right;\n",
       "    }\n",
       "</style>\n",
       "<table border=\"1\" class=\"dataframe\">\n",
       "  <thead>\n",
       "    <tr style=\"text-align: right;\">\n",
       "      <th></th>\n",
       "      <th>Beginner</th>\n",
       "      <th>Intermediate</th>\n",
       "      <th>Advanced</th>\n",
       "    </tr>\n",
       "  </thead>\n",
       "  <tbody>\n",
       "    <tr>\n",
       "      <th>0</th>\n",
       "      <td>24.605090</td>\n",
       "      <td>22.470672</td>\n",
       "      <td>24.514637</td>\n",
       "    </tr>\n",
       "    <tr>\n",
       "      <th>1</th>\n",
       "      <td>30.594173</td>\n",
       "      <td>20.752860</td>\n",
       "      <td>20.496276</td>\n",
       "    </tr>\n",
       "    <tr>\n",
       "      <th>2</th>\n",
       "      <td>28.492189</td>\n",
       "      <td>31.194956</td>\n",
       "      <td>27.771930</td>\n",
       "    </tr>\n",
       "    <tr>\n",
       "      <th>3</th>\n",
       "      <td>25.974913</td>\n",
       "      <td>30.004408</td>\n",
       "      <td>23.626240</td>\n",
       "    </tr>\n",
       "    <tr>\n",
       "      <th>4</th>\n",
       "      <td>26.356887</td>\n",
       "      <td>21.284998</td>\n",
       "      <td>24.649093</td>\n",
       "    </tr>\n",
       "    <tr>\n",
       "      <th>5</th>\n",
       "      <td>26.110165</td>\n",
       "      <td>21.466255</td>\n",
       "      <td>30.488846</td>\n",
       "    </tr>\n",
       "    <tr>\n",
       "      <th>6</th>\n",
       "      <td>24.159161</td>\n",
       "      <td>22.912837</td>\n",
       "      <td>23.499233</td>\n",
       "    </tr>\n",
       "    <tr>\n",
       "      <th>7</th>\n",
       "      <td>24.105907</td>\n",
       "      <td>18.403786</td>\n",
       "      <td>16.428579</td>\n",
       "    </tr>\n",
       "    <tr>\n",
       "      <th>8</th>\n",
       "      <td>26.781068</td>\n",
       "      <td>24.538307</td>\n",
       "      <td>25.271458</td>\n",
       "    </tr>\n",
       "    <tr>\n",
       "      <th>9</th>\n",
       "      <td>31.904154</td>\n",
       "      <td>26.524797</td>\n",
       "      <td>22.177135</td>\n",
       "    </tr>\n",
       "  </tbody>\n",
       "</table>\n",
       "</div>"
      ],
      "text/plain": [
       "    Beginner  Intermediate   Advanced\n",
       "0  24.605090     22.470672  24.514637\n",
       "1  30.594173     20.752860  20.496276\n",
       "2  28.492189     31.194956  27.771930\n",
       "3  25.974913     30.004408  23.626240\n",
       "4  26.356887     21.284998  24.649093\n",
       "5  26.110165     21.466255  30.488846\n",
       "6  24.159161     22.912837  23.499233\n",
       "7  24.105907     18.403786  16.428579\n",
       "8  26.781068     24.538307  25.271458\n",
       "9  31.904154     26.524797  22.177135"
      ]
     },
     "execution_count": 16,
     "metadata": {},
     "output_type": "execute_result"
    }
   ],
   "source": [
    "# Create data frame.\n",
    "df = pd.DataFrame({'Beginner': beginner, 'Intermediate': intermediate, 'Advanced': advanced})\n",
    "\n",
    "# Show.\n",
    "df"
   ]
  },
  {
   "cell_type": "code",
   "execution_count": 17,
   "metadata": {},
   "outputs": [
    {
     "data": {
      "text/html": [
       "<div>\n",
       "<style scoped>\n",
       "    .dataframe tbody tr th:only-of-type {\n",
       "        vertical-align: middle;\n",
       "    }\n",
       "\n",
       "    .dataframe tbody tr th {\n",
       "        vertical-align: top;\n",
       "    }\n",
       "\n",
       "    .dataframe thead th {\n",
       "        text-align: right;\n",
       "    }\n",
       "</style>\n",
       "<table border=\"1\" class=\"dataframe\">\n",
       "  <thead>\n",
       "    <tr style=\"text-align: right;\">\n",
       "      <th></th>\n",
       "      <th>Beginner</th>\n",
       "      <th>Intermediate</th>\n",
       "      <th>Advanced</th>\n",
       "    </tr>\n",
       "  </thead>\n",
       "  <tbody>\n",
       "    <tr>\n",
       "      <th>count</th>\n",
       "      <td>10.000000</td>\n",
       "      <td>10.000000</td>\n",
       "      <td>10.000000</td>\n",
       "    </tr>\n",
       "    <tr>\n",
       "      <th>mean</th>\n",
       "      <td>26.908371</td>\n",
       "      <td>23.955388</td>\n",
       "      <td>23.892343</td>\n",
       "    </tr>\n",
       "    <tr>\n",
       "      <th>std</th>\n",
       "      <td>2.658265</td>\n",
       "      <td>4.131696</td>\n",
       "      <td>3.827318</td>\n",
       "    </tr>\n",
       "    <tr>\n",
       "      <th>min</th>\n",
       "      <td>24.105907</td>\n",
       "      <td>18.403786</td>\n",
       "      <td>16.428579</td>\n",
       "    </tr>\n",
       "    <tr>\n",
       "      <th>25%</th>\n",
       "      <td>24.947546</td>\n",
       "      <td>21.330312</td>\n",
       "      <td>22.507659</td>\n",
       "    </tr>\n",
       "    <tr>\n",
       "      <th>50%</th>\n",
       "      <td>26.233526</td>\n",
       "      <td>22.691754</td>\n",
       "      <td>24.070439</td>\n",
       "    </tr>\n",
       "    <tr>\n",
       "      <th>75%</th>\n",
       "      <td>28.064409</td>\n",
       "      <td>26.028175</td>\n",
       "      <td>25.115867</td>\n",
       "    </tr>\n",
       "    <tr>\n",
       "      <th>max</th>\n",
       "      <td>31.904154</td>\n",
       "      <td>31.194956</td>\n",
       "      <td>30.488846</td>\n",
       "    </tr>\n",
       "  </tbody>\n",
       "</table>\n",
       "</div>"
      ],
      "text/plain": [
       "        Beginner  Intermediate   Advanced\n",
       "count  10.000000     10.000000  10.000000\n",
       "mean   26.908371     23.955388  23.892343\n",
       "std     2.658265      4.131696   3.827318\n",
       "min    24.105907     18.403786  16.428579\n",
       "25%    24.947546     21.330312  22.507659\n",
       "50%    26.233526     22.691754  24.070439\n",
       "75%    28.064409     26.028175  25.115867\n",
       "max    31.904154     31.194956  30.488846"
      ]
     },
     "execution_count": 17,
     "metadata": {},
     "output_type": "execute_result"
    }
   ],
   "source": [
    "# Describe.\n",
    "df.describe()"
   ]
  },
  {
   "cell_type": "code",
   "execution_count": 18,
   "metadata": {},
   "outputs": [
    {
     "data": {
      "text/plain": [
       "(2.297307420071679, 0.11984900516539496)"
      ]
     },
     "execution_count": 18,
     "metadata": {},
     "output_type": "execute_result"
    }
   ],
   "source": [
    "# Perform ANOVA.\n",
    "f_statistic, p_value = stats.f_oneway(df['Beginner'], df['Intermediate'], df['Advanced'])\n",
    "\n",
    "# Show.\n",
    "f_statistic, p_value"
   ]
  },
  {
   "cell_type": "code",
   "execution_count": 19,
   "metadata": {},
   "outputs": [
    {
     "name": "stdout",
     "output_type": "stream",
     "text": [
      "Tukey's HSD Pairwise Group Comparisons (95.0% Confidence Interval)\n",
      "Comparison  Statistic  p-value  Lower CI  Upper CI\n",
      " (0 - 1)      2.953     0.177    -1.034     6.940\n",
      " (0 - 2)      3.016     0.165    -0.971     7.003\n",
      " (1 - 0)     -2.953     0.177    -6.940     1.034\n",
      " (1 - 2)      0.063     0.999    -3.924     4.050\n",
      " (2 - 0)     -3.016     0.165    -7.003     0.971\n",
      " (2 - 1)     -0.063     0.999    -4.050     3.924\n",
      "\n"
     ]
    }
   ],
   "source": [
    "# Tukey's HSD.\n",
    "res = stats.tukey_hsd(df['Beginner'], df['Intermediate'], df['Advanced'])\n",
    "\n",
    "# Show.\n",
    "print(res)"
   ]
  },
  {
   "cell_type": "markdown",
   "metadata": {},
   "source": [
    "## Presenting the Data"
   ]
  },
  {
   "cell_type": "code",
   "execution_count": 20,
   "metadata": {},
   "outputs": [
    {
     "data": {
      "text/plain": [
       "array([32.21888644, 23.95611057, 23.84961468, 27.89181201, 23.69564158,\n",
       "       23.57476651, 27.13743624, 23.57862138, 30.04924887, 32.61320694,\n",
       "       24.28481978, 22.50834489, 25.57076431, 27.87506451, 21.49192678,\n",
       "       21.95230992, 20.44204547, 24.14086596, 23.9570943 , 25.74922035,\n",
       "       29.42272763, 30.19652946, 21.83647115, 24.04321731, 21.92385913,\n",
       "       23.56625707, 24.97401765, 25.19349143, 20.59670835, 21.05905195])"
      ]
     },
     "execution_count": 20,
     "metadata": {},
     "output_type": "execute_result"
    }
   ],
   "source": [
    "# From Laerd.\n",
    "beginner = np.random.normal(27.2, 3.04777, 10)\n",
    "intermediate = np.random.normal(23.6, 3.30656, 10)\n",
    "advanced = np.random.normal(23.4, 3.23866, 10)\n",
    "\n",
    "# Concatenate arrays.\n",
    "data = np.concatenate([beginner, intermediate, advanced])\n",
    "\n",
    "# Show.\n",
    "data"
   ]
  },
  {
   "cell_type": "code",
   "execution_count": 21,
   "metadata": {},
   "outputs": [
    {
     "data": {
      "text/plain": [
       "['Beginner',\n",
       " 'Beginner',\n",
       " 'Beginner',\n",
       " 'Beginner',\n",
       " 'Beginner',\n",
       " 'Beginner',\n",
       " 'Beginner',\n",
       " 'Beginner',\n",
       " 'Beginner',\n",
       " 'Beginner',\n",
       " 'Intermediate',\n",
       " 'Intermediate',\n",
       " 'Intermediate',\n",
       " 'Intermediate',\n",
       " 'Intermediate',\n",
       " 'Intermediate',\n",
       " 'Intermediate',\n",
       " 'Intermediate',\n",
       " 'Intermediate',\n",
       " 'Intermediate',\n",
       " 'Advanced',\n",
       " 'Advanced',\n",
       " 'Advanced',\n",
       " 'Advanced',\n",
       " 'Advanced',\n",
       " 'Advanced',\n",
       " 'Advanced',\n",
       " 'Advanced',\n",
       " 'Advanced',\n",
       " 'Advanced']"
      ]
     },
     "execution_count": 21,
     "metadata": {},
     "output_type": "execute_result"
    }
   ],
   "source": [
    "# Create the labels.\n",
    "labels = ['Beginner'] * 10 + ['Intermediate'] * 10 + ['Advanced'] * 10\n",
    "\n",
    "# Show.\n",
    "labels"
   ]
  },
  {
   "cell_type": "code",
   "execution_count": 22,
   "metadata": {},
   "outputs": [
    {
     "data": {
      "text/html": [
       "<div>\n",
       "<style scoped>\n",
       "    .dataframe tbody tr th:only-of-type {\n",
       "        vertical-align: middle;\n",
       "    }\n",
       "\n",
       "    .dataframe tbody tr th {\n",
       "        vertical-align: top;\n",
       "    }\n",
       "\n",
       "    .dataframe thead th {\n",
       "        text-align: right;\n",
       "    }\n",
       "</style>\n",
       "<table border=\"1\" class=\"dataframe\">\n",
       "  <thead>\n",
       "    <tr style=\"text-align: right;\">\n",
       "      <th></th>\n",
       "      <th>Course</th>\n",
       "      <th>Time</th>\n",
       "    </tr>\n",
       "  </thead>\n",
       "  <tbody>\n",
       "    <tr>\n",
       "      <th>0</th>\n",
       "      <td>Beginner</td>\n",
       "      <td>32.218886</td>\n",
       "    </tr>\n",
       "    <tr>\n",
       "      <th>1</th>\n",
       "      <td>Beginner</td>\n",
       "      <td>23.956111</td>\n",
       "    </tr>\n",
       "    <tr>\n",
       "      <th>2</th>\n",
       "      <td>Beginner</td>\n",
       "      <td>23.849615</td>\n",
       "    </tr>\n",
       "    <tr>\n",
       "      <th>3</th>\n",
       "      <td>Beginner</td>\n",
       "      <td>27.891812</td>\n",
       "    </tr>\n",
       "    <tr>\n",
       "      <th>4</th>\n",
       "      <td>Beginner</td>\n",
       "      <td>23.695642</td>\n",
       "    </tr>\n",
       "    <tr>\n",
       "      <th>5</th>\n",
       "      <td>Beginner</td>\n",
       "      <td>23.574767</td>\n",
       "    </tr>\n",
       "    <tr>\n",
       "      <th>6</th>\n",
       "      <td>Beginner</td>\n",
       "      <td>27.137436</td>\n",
       "    </tr>\n",
       "    <tr>\n",
       "      <th>7</th>\n",
       "      <td>Beginner</td>\n",
       "      <td>23.578621</td>\n",
       "    </tr>\n",
       "    <tr>\n",
       "      <th>8</th>\n",
       "      <td>Beginner</td>\n",
       "      <td>30.049249</td>\n",
       "    </tr>\n",
       "    <tr>\n",
       "      <th>9</th>\n",
       "      <td>Beginner</td>\n",
       "      <td>32.613207</td>\n",
       "    </tr>\n",
       "    <tr>\n",
       "      <th>10</th>\n",
       "      <td>Intermediate</td>\n",
       "      <td>24.284820</td>\n",
       "    </tr>\n",
       "    <tr>\n",
       "      <th>11</th>\n",
       "      <td>Intermediate</td>\n",
       "      <td>22.508345</td>\n",
       "    </tr>\n",
       "    <tr>\n",
       "      <th>12</th>\n",
       "      <td>Intermediate</td>\n",
       "      <td>25.570764</td>\n",
       "    </tr>\n",
       "    <tr>\n",
       "      <th>13</th>\n",
       "      <td>Intermediate</td>\n",
       "      <td>27.875065</td>\n",
       "    </tr>\n",
       "    <tr>\n",
       "      <th>14</th>\n",
       "      <td>Intermediate</td>\n",
       "      <td>21.491927</td>\n",
       "    </tr>\n",
       "    <tr>\n",
       "      <th>15</th>\n",
       "      <td>Intermediate</td>\n",
       "      <td>21.952310</td>\n",
       "    </tr>\n",
       "    <tr>\n",
       "      <th>16</th>\n",
       "      <td>Intermediate</td>\n",
       "      <td>20.442045</td>\n",
       "    </tr>\n",
       "    <tr>\n",
       "      <th>17</th>\n",
       "      <td>Intermediate</td>\n",
       "      <td>24.140866</td>\n",
       "    </tr>\n",
       "    <tr>\n",
       "      <th>18</th>\n",
       "      <td>Intermediate</td>\n",
       "      <td>23.957094</td>\n",
       "    </tr>\n",
       "    <tr>\n",
       "      <th>19</th>\n",
       "      <td>Intermediate</td>\n",
       "      <td>25.749220</td>\n",
       "    </tr>\n",
       "    <tr>\n",
       "      <th>20</th>\n",
       "      <td>Advanced</td>\n",
       "      <td>29.422728</td>\n",
       "    </tr>\n",
       "    <tr>\n",
       "      <th>21</th>\n",
       "      <td>Advanced</td>\n",
       "      <td>30.196529</td>\n",
       "    </tr>\n",
       "    <tr>\n",
       "      <th>22</th>\n",
       "      <td>Advanced</td>\n",
       "      <td>21.836471</td>\n",
       "    </tr>\n",
       "    <tr>\n",
       "      <th>23</th>\n",
       "      <td>Advanced</td>\n",
       "      <td>24.043217</td>\n",
       "    </tr>\n",
       "    <tr>\n",
       "      <th>24</th>\n",
       "      <td>Advanced</td>\n",
       "      <td>21.923859</td>\n",
       "    </tr>\n",
       "    <tr>\n",
       "      <th>25</th>\n",
       "      <td>Advanced</td>\n",
       "      <td>23.566257</td>\n",
       "    </tr>\n",
       "    <tr>\n",
       "      <th>26</th>\n",
       "      <td>Advanced</td>\n",
       "      <td>24.974018</td>\n",
       "    </tr>\n",
       "    <tr>\n",
       "      <th>27</th>\n",
       "      <td>Advanced</td>\n",
       "      <td>25.193491</td>\n",
       "    </tr>\n",
       "    <tr>\n",
       "      <th>28</th>\n",
       "      <td>Advanced</td>\n",
       "      <td>20.596708</td>\n",
       "    </tr>\n",
       "    <tr>\n",
       "      <th>29</th>\n",
       "      <td>Advanced</td>\n",
       "      <td>21.059052</td>\n",
       "    </tr>\n",
       "  </tbody>\n",
       "</table>\n",
       "</div>"
      ],
      "text/plain": [
       "          Course       Time\n",
       "0       Beginner  32.218886\n",
       "1       Beginner  23.956111\n",
       "2       Beginner  23.849615\n",
       "3       Beginner  27.891812\n",
       "4       Beginner  23.695642\n",
       "5       Beginner  23.574767\n",
       "6       Beginner  27.137436\n",
       "7       Beginner  23.578621\n",
       "8       Beginner  30.049249\n",
       "9       Beginner  32.613207\n",
       "10  Intermediate  24.284820\n",
       "11  Intermediate  22.508345\n",
       "12  Intermediate  25.570764\n",
       "13  Intermediate  27.875065\n",
       "14  Intermediate  21.491927\n",
       "15  Intermediate  21.952310\n",
       "16  Intermediate  20.442045\n",
       "17  Intermediate  24.140866\n",
       "18  Intermediate  23.957094\n",
       "19  Intermediate  25.749220\n",
       "20      Advanced  29.422728\n",
       "21      Advanced  30.196529\n",
       "22      Advanced  21.836471\n",
       "23      Advanced  24.043217\n",
       "24      Advanced  21.923859\n",
       "25      Advanced  23.566257\n",
       "26      Advanced  24.974018\n",
       "27      Advanced  25.193491\n",
       "28      Advanced  20.596708\n",
       "29      Advanced  21.059052"
      ]
     },
     "execution_count": 22,
     "metadata": {},
     "output_type": "execute_result"
    }
   ],
   "source": [
    "# Create data frame.\n",
    "df = pd.DataFrame({'Course': labels, 'Time': data})\n",
    "\n",
    "# Show.\n",
    "df"
   ]
  },
  {
   "cell_type": "code",
   "execution_count": 23,
   "metadata": {},
   "outputs": [
    {
     "data": {
      "text/plain": [
       "(2.7387806910052417, 0.08261040488901898)"
      ]
     },
     "execution_count": 23,
     "metadata": {},
     "output_type": "execute_result"
    }
   ],
   "source": [
    "# Pull the groups out.\n",
    "b_times = df[df['Course'] == 'Beginner']['Time']\n",
    "i_times = df[df['Course'] == 'Intermediate']['Time']\n",
    "a_times = df[df['Course'] == 'Advanced']['Time']\n",
    "\n",
    "# Perform ANOVA.\n",
    "f, p = stats.f_oneway(b_times, i_times, a_times)\n",
    "\n",
    "# Show.\n",
    "f, p"
   ]
  },
  {
   "cell_type": "code",
   "execution_count": 24,
   "metadata": {},
   "outputs": [
    {
     "name": "stdout",
     "output_type": "stream",
     "text": [
      "Tukey's HSD Pairwise Group Comparisons (95.0% Confidence Interval)\n",
      "Comparison  Statistic  p-value  Lower CI  Upper CI\n",
      " (0 - 1)      3.059     0.093    -0.425     6.544\n",
      " (0 - 2)      2.575     0.178    -0.909     6.060\n",
      " (1 - 0)     -3.059     0.093    -6.544     0.425\n",
      " (1 - 2)     -0.484     0.937    -3.968     3.000\n",
      " (2 - 0)     -2.575     0.178    -6.060     0.909\n",
      " (2 - 1)      0.484     0.937    -3.000     3.968\n",
      "\n"
     ]
    }
   ],
   "source": [
    "# Tukey's HSD.\n",
    "res = stats.tukey_hsd(b_times, i_times, a_times)\n",
    "\n",
    "# Show.\n",
    "print(res)"
   ]
  },
  {
   "cell_type": "markdown",
   "metadata": {},
   "source": [
    "## End"
   ]
  }
 ],
 "metadata": {
  "kernelspec": {
   "display_name": "base",
   "language": "python",
   "name": "python3"
  },
  "language_info": {
   "codemirror_mode": {
    "name": "ipython",
    "version": 3
   },
   "file_extension": ".py",
   "mimetype": "text/x-python",
   "name": "python",
   "nbconvert_exporter": "python",
   "pygments_lexer": "ipython3",
   "version": "3.12.7"
  }
 },
 "nbformat": 4,
 "nbformat_minor": 2
}
